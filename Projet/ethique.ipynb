{
 "cells": [
  {
   "attachments": {},
   "cell_type": "markdown",
   "metadata": {},
   "source": [
    "# Étude de l'éthique des données"
   ]
  },
  {
   "attachments": {},
   "cell_type": "markdown",
   "metadata": {},
   "source": [
    "## Sommaire"
   ]
  },
  {
   "attachments": {},
   "cell_type": "markdown",
   "metadata": {},
   "source": [
    "1. Situation initiale\n",
    "2. Solutions\n",
    "3. Parties prenantes\n",
    "4. Impacts\n",
    "5. Filtre éthique\n",
    "6. Glossaire"
   ]
  },
  {
   "attachments": {},
   "cell_type": "markdown",
   "metadata": {},
   "source": [
    "## 1. Situation initiale"
   ]
  },
  {
   "attachments": {},
   "cell_type": "markdown",
   "metadata": {},
   "source": [
    "Il s'agit dans un document mettant en évidence l'appropriation de la méthodologie proposée pour avoir une démarche éthique traçant des choix justifiés par rapport aussi aux échanges qu'il y a eu dans l'équipe pendant toutes les phases du projet de la préparation du jeu de données à la proposition de pistes d'amélioration à votre client. En plus de la démarche, voici la mise en évidence les décisions qui ont été prises dans l'équipe ainsi que les points de vigilance ou de contrôle à mettre en place par rapport aux problématiques éthiques rencontrées.\n",
    "\n",
    "Les questions accessibles depuis ce [site](https://digital-strategy.ec.europa.eu/en/library/assessment-list-trustworthy-artificial-intelligence-altai-self-assessment) pourront guider cette démarche. Le fichier PDF téléchargeable donne les principales questions à se poser pour valider qu'un projet d'IA est éthique selon 7 exigences recommandées par la Commission Européenne :\n",
    "* respect de l'autonomie humaine\n",
    "* robustesse technique et sécurité\n",
    "* confidentialité et gouvernance des données\n",
    "* transparence\n",
    "* diversité, non-discrimination et équité\n",
    "* bien-être environnemental et sociétal\n",
    "* responsabilité"
   ]
  },
  {
   "attachments": {},
   "cell_type": "markdown",
   "metadata": {},
   "source": [
    "### Fichier de données"
   ]
  },
  {
   "attachments": {},
   "cell_type": "markdown",
   "metadata": {},
   "source": [
    "#### Données du service des ressources humaines"
   ]
  },
  {
   "attachments": {},
   "cell_type": "markdown",
   "metadata": {},
   "source": [
    "Pour chaque employé, le service des ressources humaines possède les informations suivantes (`general_data.csv`) :"
   ]
  },
  {
   "attachments": {},
   "cell_type": "markdown",
   "metadata": {},
   "source": [
    "|Label|Description|Type de data|Nullable|Exemple\n",
    "|:--|:--|:--|:--|:--|\n",
    "|Age|L'âge de l'employé en 2015|entier|Non|24, 51, 30, ...|\n",
    "|Attrition|L'objet de notre étude, est-ce que l'employé a quitté l'entreprise durant l'année 2016 ?|booleen|Non| Yes ou No|\n",
    "|BusinessTravel| A quel fréquence l'employé a été amené à se déplacer dans le cadre de son travail en 2015 ?| chaine de caractères |Non|Non-Travel = jamais, Travel_Rarely= rarement, Travel_Frequently = fréquemment|\n",
    "|DistanceFromHome|Distance en km entre le logement de l'employé et l'entreprise|entier|Non|6, 10, ...|\n",
    "|Education|Niveau d'étude|entier|Non|1=Avant College (équivalent niveau Bac), 2=College (équivalent Bac+2), 3=Bachelor (Bac+3), 4=Master (Bac+5) et 5=PhD (Thèse de doctorat)|\n",
    "|EducationField| Domaine d'étude, matière principale|CdC|Non| Life Sciences, Medical, Other, ...|\n",
    "|EmployeeCount|Si l'employé était compté dans les effectifs en 2015|booléen|Non|1 si l'employé était compté dans les effectifs en 2015|\n",
    "|EmployeeId|l'identifiant d'un employé|entier|Non|1, 2, ...|\n",
    "|Gender|Sexe de l'employé|CdC|Non|Female, Male|\n",
    "|JobLevel| Niveau hiérarchique dans l'entreprise|entier|Non|De 1 à 5|\n",
    "|JobRole|Métier dans l'entreprise|CdC|Non|Research Scientist, Sales Executive, ...|\n",
    "|MaritalStatus|Statut marital du salarié|CdC|Non|Célibataire, Marié ou Divorcé|\n",
    "|MonthlyIncome|Salaire brut en roupies par mois|entier|Non|23420, 193280, 103330, ...|\n",
    "|NumCompaniesWorked|Nombre d'entreprises pour lequel le salarié a travaillé avant de rejoindre HumanForYou|entier|Non|0, 1, 2, ...|\n",
    "|Over18|Est-ce que le salarié a plus de 18 ans ou non ?|caractère|Non|Y, N|\n",
    "|PercentSalaryHike|% d'augmentation du salaire en 2015|entier|Non|11, 23, 15, ...|\n",
    "|StandardHours|Nombre d'heures par jour dans le contrat du salarié|entier|Non|8, ...|\n",
    "|StockOptionLevel|Niveau d'investissement en actions de l'entreprise par le salarié|entier|Non|0, 1, 2, ...|\n",
    "|TotalWorkingYears|Nombre d'années d'expérience en entreprise du salarié pour le même type de poste|entier|Non|0, 1, 2, ...|\n",
    "|TrainingTimesLastYear|Nombre de jours de formation en 2015|entier|Non|0, 1, 2, ...|\n",
    "|YearsAtCompany|Ancienneté dans l'entreprise|entier|Non|0, 1, 2, ...|\n",
    "|YearsSinceLastPromotion|Nombre d'années depuis la dernière augmentation individuelle|entier|Non|0, 1, 2, ...|\n",
    "|YearsWithCurrManager|Nombre d'années de collaboration sous la responsabilité du manager actuel de l'employé|entier|Non|0, 1, 2, ...|"
   ]
  },
  {
   "attachments": {},
   "cell_type": "markdown",
   "metadata": {},
   "source": [
    "#### Dernière évaluation du manager"
   ]
  },
  {
   "attachments": {},
   "cell_type": "markdown",
   "metadata": {},
   "source": [
    "Ce fichier contient la dernière évaluation de chaque employé faite pas son manager en février 2015 (`manager_survey_data.csv`)."
   ]
  },
  {
   "attachments": {},
   "cell_type": "markdown",
   "metadata": {},
   "source": [
    "|Label|Description|Type de data|Nullable|Exemple\n",
    "|:--|:--|:--|:--|:--|\n",
    "|EmployeeID|l'identifiant d'un employé|entier|Non|1, 2, ...|\n",
    "|JobInvolvement|Une évaluation de son implication dans son travail|entier|Non| 1 ('Faible'), 2 (\"Moyenne\"), 3 (\"Importante\") ou 4 (\"Très importante\")|\n",
    "|PerformanceRating|Une évaluation de son niveau de performance annuel pour l'entreprise|entier|Non| 1 ('Faible'), 2 (\"Bon\"), 3 (\"Excellent\") ou 4 (\"Au delà des attentes\")|"
   ]
  },
  {
   "attachments": {},
   "cell_type": "markdown",
   "metadata": {},
   "source": [
    "#### Enquête qualité de vie au travail"
   ]
  },
  {
   "attachments": {},
   "cell_type": "markdown",
   "metadata": {},
   "source": [
    "Ce fichier (`employee_survey_data.csv`) provient d'une enquête soumise aux employés en juin 2015 par le service RH pour avoir un retour concernant leur qualité de vie au travail.\n",
    "\n",
    "Une organisation avait été mise en place pour que chacun puisse répondre à ce questionnaire sur son lieu de travail en concertation avec les managers mais il n'y avait pas d'obligation."
   ]
  },
  {
   "attachments": {},
   "cell_type": "markdown",
   "metadata": {},
   "source": [
    "|Label|Description|Type de data|Nullable|Exemple\n",
    "|:--|:--|:--|:--|:--|\n",
    "|EmployeeID|l'identifiant d'un employé|entier|Non|1, 2, ...|\n",
    "|EnvironmentSatisfaction|Satisfaction de l'environnement de travail|entier|Oui| 1 ('Faible'), 2 (\"Moyenne\"), 3 (\"Élevé\") ou 4 (\"Très élevé\")|\n",
    "|JobSatisfaction|Son travail|entier|Oui| De 1 à 4|\n",
    "|WorkLifeBalance|Son équilibre entre vie professionnelle et vie privée|entier|Oui| 1 (\"Mauvais\"), 2 (\"Satisfaisant\"), 3 (\"Très satisfaisant\") ou 4 (\"Excellent\")|"
   ]
  },
  {
   "attachments": {},
   "cell_type": "markdown",
   "metadata": {},
   "source": [
    "#### Horaires de travail"
   ]
  },
  {
   "attachments": {},
   "cell_type": "markdown",
   "metadata": {},
   "source": [
    "Des badgeuses sont installées et utilisées dans l'entreprise depuis quelques années. Il a été jugé opportun par la direction de vous transmettre les horaires d'entrée et de sortie des employés sur une période de l'année choisie représentative d'une activité moyenne pour l'ensemble des services.\n",
    "\n",
    "Il y a donc 2 fichiers traçants les horaires d'arrivée à leur poste et de départ de leur poste de l'ensemble des employés par date sur une période allant du 1er janvier au 31 décembre 2015."
   ]
  },
  {
   "attachments": {},
   "cell_type": "markdown",
   "metadata": {},
   "source": [
    "`in_time.csv` :"
   ]
  },
  {
   "attachments": {},
   "cell_type": "markdown",
   "metadata": {},
   "source": [
    "|Label|Description|Type de data|Nullable|Exemple|\n",
    "|:--|:--|:--|:--|:--|\n",
    "|EmployeeID|l'identifiant d'un employé|entier|Non|1, 2, ...|\n",
    "|2015-01-01 <br/>2015-01-02 <br/> ...|Date et heure de l'entrée|date heure|Oui|2015-01-02 09:43:45, 2015-01-02 09:44:45, ...|"
   ]
  },
  {
   "attachments": {},
   "cell_type": "markdown",
   "metadata": {},
   "source": [
    "`out_time.csv` :"
   ]
  },
  {
   "attachments": {},
   "cell_type": "markdown",
   "metadata": {},
   "source": [
    "|Label|Description|Type de data|Nullable|Exemple|\n",
    "|:--|:--|:--|:--|:--|\n",
    "|EmployeeID|l'identifiant d'un employé|entier|Non|1, 2, ...|\n",
    "|2015-01-01 <br/>2015-01-02 <br/> ...|Date et heure de la sortie|date heure|Oui|2015-01-02 09:43:45, 2015-01-02 09:44:45, ...|"
   ]
  },
  {
   "attachments": {},
   "cell_type": "markdown",
   "metadata": {},
   "source": [
    "## 2. Solutions"
   ]
  },
  {
   "attachments": {},
   "cell_type": "markdown",
   "metadata": {},
   "source": [
    "Voici les solutions proposées pour chaque exigences proposées par la Comission Européenne :"
   ]
  },
  {
   "attachments": {},
   "cell_type": "markdown",
   "metadata": {},
   "source": [
    "| Exigences | Solutions |\n",
    "|:--|:--|\n",
    "| Respect de l'autonomie humaine | - L'intelligence artificielle doit être utilisisée pour proposer des suggestions et des recommandations, mais ne doit pas être utilisée pour prendre des décisions. |\n",
    "| Robustesse technique et sécurité | - Doit disposer de leviers de sécurité, de contrôle et de surveillance. Comme par exemple, la possibilité de désactiver l'IA en cas de problème. |\n",
    "| Confidentialité et gouvernance des données | - Pas de collecte de données personnelles. </br>- Localisation des serveurs. </br>- Les responsables et les utilisateurs doivent être identifiables et responsables. </br>- Contrôle des données par les utilisateurs. |\n",
    "| Transparence | - Pas de parti-pris. </br>- Les décisions prises par les systèmes d'IA doivent être compréhensibles et explicables pour les utilisateurs et les parties prenantes. |\n",
    "| Diversité, non-discrimination et équité | - Pas de biais ou de discrimination. </br>- Respect de la diversité et de l'égalité de traitement. </br>- *Pas de traitement sur : l'origine, l'éthnie, la nationalité, l'handicap, le sexe, la religion et le statut matriominial ou familial.* |\n",
    "| Bien-être environnemental et sociétal | - Pas de risque de traçabilité pour les utilisateurs. </br>- Pas de risque de sécurité pour les données. |\n",
    "| Responsabilité | - Conformité aux normes en vigueur. |"
   ]
  },
  {
   "attachments": {},
   "cell_type": "markdown",
   "metadata": {},
   "source": [
    "### Autonomie humaine"
   ]
  },
  {
   "attachments": {},
   "cell_type": "markdown",
   "metadata": {},
   "source": [
    "Nous avons pris en compte le respect de l'autonomie humaine en évitant que l'IA prenne des décisions à la place des humains. Il faut opter pour l'utilisation de l'IA pour proposer des suggestions et des recommandations aux utilisateurs. Nous avons ainsi assuré que les décisions finales restent entre les mains des humains.\n",
    "\n",
    "Ressource [1](https://www.legifrance.gouv.fr/affichTexte.do?cidTexte=JORFTEXT000037809855&dateTexte=20181231)."
   ]
  },
  {
   "attachments": {},
   "cell_type": "markdown",
   "metadata": {},
   "source": [
    "### Robustesse technique et sécurité"
   ]
  },
  {
   "attachments": {},
   "cell_type": "markdown",
   "metadata": {},
   "source": [
    "La robustesse technique et la sécurité ont été des points clés dans notre projet. Il faut en priorité mettre en place des leviers de sécurité, de contrôle et de surveillance pour éviter tout problème potentiel. Par exemple, HumanForYou a prévu la possibilité de désactiver l'IA en cas de problème et a veillé à ce que l'IA soit développée selon les normes et standards de sécurité en vigueur, pour garantir un haut niveau de protection des données.\n",
    "\n",
    "Ressources [2](https://www.lebigdata.fr/intelligence-artificielle-securite), [3](https://linc.cnil.fr/fr/securite-des-systemes-dia-les-gestes-qui-sauvent)."
   ]
  },
  {
   "attachments": {},
   "cell_type": "markdown",
   "metadata": {},
   "source": [
    "### Confidentialité et gouvernance des données"
   ]
  },
  {
   "attachments": {},
   "cell_type": "markdown",
   "metadata": {},
   "source": [
    "Nous avons pris en compte la confidentialité et la gouvernance des données tout au long du projet. Nous avons opté pour la non-collecte de données personnelles pour respecter la vie privée des utilisateurs et recommandons une localisation sécurisée des serveurs, et assurer que les responsables et les utilisateurs soient identifiables et responsables. Enfin, il faut mettre en place un contrôle des données par les utilisateurs pour leur permettre de gérer leurs informations de manière autonome.\n",
    "\n",
    "Ressources [4](https://www.cnil.fr/fr/intelligence-artificielle/ia-comment-etre-en-conformite-avec-le-rgpd), [5](https://www.ibm.com/fr-fr/analytics/data-privacy-ai-protection)."
   ]
  },
  {
   "attachments": {},
   "cell_type": "markdown",
   "metadata": {},
   "source": [
    "### Transparence"
   ]
  },
  {
   "attachments": {},
   "cell_type": "markdown",
   "metadata": {},
   "source": [
    "Nous avons veillé à éviter tout parti pris dans notre projet. Les décisions prises par les systèmes d'IA doivent être compréhensibles et explicables pour les utilisateurs et les parties prenantes. Nous avons ainsi assuré la transparence de notre projet en fournissant des explications claires sur les choix de recommandations proposées par l'IA.\n",
    "\n",
    "Ressource [6](https://www.diplomatie.gouv.fr/fr/politique-etrangere-de-la-france/diplomatie-numerique/transparence-et-responsabilite-les-enjeux-de-l-intelligence-artificielle/)."
   ]
  },
  {
   "attachments": {},
   "cell_type": "markdown",
   "metadata": {},
   "source": [
    "### Diversité, non-discrimination et équité"
   ]
  },
  {
   "attachments": {},
   "cell_type": "markdown",
   "metadata": {},
   "source": [
    "Dans notre projet, nous avons veillé à ne pas introduire de biais ou de discrimination, et à respecter la diversité et l'égalité de traitement. Nous avons évité tout traitement basé sur l'origine, l'éthnie, la nationalité, l'handicap, le sexe, la religion et le statut matrimonial ou familial.\n",
    "\n",
    "Ressources [7](https://assembly.coe.int/LifeRay/EGA/Pdf/TextesProvisoires/2020/20200915-PreventingDiscriminationAI-FR.pdf), [8](https://www.zdnet.fr/actualites/une-ia-digne-de-confiance-l-ue-publie-des-lignes-directrices-pour-le-developpement-d-une-ia-ethique-39883303.htm)."
   ]
  },
  {
   "attachments": {},
   "cell_type": "markdown",
   "metadata": {},
   "source": [
    "### Bien-être environnemental et sociétal"
   ]
  },
  {
   "attachments": {},
   "cell_type": "markdown",
   "metadata": {},
   "source": [
    "Nous avons pris en compte le bien-être environnemental et sociétal dans notre projet d'IA en évitant tout risque de traçabilité pour les utilisateurs et en garantissant la sécurité des données. Nous avons assuré que notre projet ne pose aucun risque pour l'environnement ou la société.\n",
    "\n",
    "Ressource [9](https://ecoinfo.cnrs.fr/2022/03/15/impacts-sociaux-de-lia/)."
   ]
  },
  {
   "attachments": {},
   "cell_type": "markdown",
   "metadata": {},
   "source": [
    "### Responsabilité"
   ]
  },
  {
   "cell_type": "markdown",
   "metadata": {},
   "source": [
    "Enfin, il faut assurer la conformité aux normes en vigueur pour garantir la responsabilité du projet. Nous avons ainsi veillé à respecter les lois et les réglementations en matière d'éthique de l'IA pour assurer la transparence et la responsabilité.\n",
    "\n",
    "Ressource [4](https://www.cnil.fr/fr/intelligence-artificielle/ia-comment-etre-en-conformite-avec-le-rgpd)."
   ]
  },
  {
   "attachments": {},
   "cell_type": "markdown",
   "metadata": {},
   "source": [
    "## 3. Parties prenantes"
   ]
  },
  {
   "attachments": {},
   "cell_type": "markdown",
   "metadata": {},
   "source": [
    "Les parties prenantes sont :\n",
    "- HumanForYou ;\n",
    "- Les utilisateurs ;\n",
    "- Les développeurs ;\n",
    "- Les partenaires ;\n",
    "- Les autorités (CNIL, RGPD, etc.) ;\n",
    "- La commission européenne."
   ]
  },
  {
   "attachments": {},
   "cell_type": "markdown",
   "metadata": {},
   "source": [
    "## 4. Impacts"
   ]
  },
  {
   "attachments": {},
   "cell_type": "markdown",
   "metadata": {},
   "source": [
    "L'objectif de notre projet est de proposer une estimation des facteurs de démission d'un employé.\n",
    "\n",
    "Suivant les résultats de notre projet, HumanForYou proposera des solutions pour réduire le taux de démission des employés, ainsi, les impacts seront :\n",
    "- Améliorer la satisfaction des employés ;\n",
    "- Réduire les coûts de recrutement ;\n",
    "- Réduire les coûts de formation ;\n",
    "- Améliorer la productivité de l'entreprise."
   ]
  },
  {
   "attachments": {},
   "cell_type": "markdown",
   "metadata": {},
   "source": [
    "## 5. Filtre éthique"
   ]
  },
  {
   "attachments": {},
   "cell_type": "markdown",
   "metadata": {},
   "source": [
    "Voici les données non-pertinentes que nous avons identifiées dans notre projet :"
   ]
  },
  {
   "attachments": {},
   "cell_type": "markdown",
   "metadata": {},
   "source": [
    "|Pas utile|\n",
    "|:-|\n",
    "|\"Over18\"|\n",
    "|\"EducationField\"|\n",
    "|\"EmployeeCount\" = 0|\n",
    "|*\"StockOptionLevel\"*|"
   ]
  },
  {
   "attachments": {},
   "cell_type": "markdown",
   "metadata": {},
   "source": [
    "Non-pertinantes car elles ne sont pas utiles pour la prédiction de la démission d'un employé :\n",
    "- `Over18` : Nous avons déjà l'age de l'employé.\n",
    "- `EducationField` : Nous avons déjà l'education de l'employé.\n",
    "- `EmployeeCount` : Tous les employés ont 0 comme valeur.\n",
    "- `StockOptionLevel` : Non pertinente."
   ]
  },
  {
   "attachments": {},
   "cell_type": "markdown",
   "metadata": {},
   "source": [
    "Voici les données non-éthiques que nous avons identifiées dans notre projet :"
   ]
  },
  {
   "attachments": {},
   "cell_type": "markdown",
   "metadata": {},
   "source": [
    "|Pas éthique|\n",
    "|:-|\n",
    "|< 18 ans|\n",
    "|\"Gender\"|\n",
    "|\"MaritalStatus\"|"
   ]
  },
  {
   "attachments": {},
   "cell_type": "markdown",
   "metadata": {},
   "source": [
    "- `<18` : Nous ne pouvons pas prédire la démission d'un employé mineur.\n",
    "- `Gender` : Il est interdit de discriminer les employés en fonction de leur sexe.\n",
    "- `MaritalStatus` : Il est interdit de discriminer les employés en fonction de leur statut matrimonial."
   ]
  },
  {
   "attachments": {},
   "cell_type": "markdown",
   "metadata": {},
   "source": [
    "## 6. Glossaire"
   ]
  },
  {
   "attachments": {},
   "cell_type": "markdown",
   "metadata": {},
   "source": [
    "* **RGPD :** Règlement Général sur la Protection des Données.\n",
    "* **IA :** Intelligence Artificielle.\n",
    "* **CNIL :** Commission Nationale de l'Informatique et des Libertés.\n",
    "* **Discrimination :** Lorsqu'une personne est traitée différemment en raison de son origine, de son sexe, de son âge, de son handicap, de son orientation sexuelle, de son identité de genre, de son état matrimonial, de sa situation familiale, de sa religion ou de ses croyances, de son appartenance à une ethnie ou à une nation, de son appartenance à une organisation syndicale, de son appartenance à un parti politique ou de ses opinions politiques."
   ]
  }
 ],
 "metadata": {
  "language_info": {
   "name": "python"
  },
  "orig_nbformat": 4
 },
 "nbformat": 4,
 "nbformat_minor": 2
}
