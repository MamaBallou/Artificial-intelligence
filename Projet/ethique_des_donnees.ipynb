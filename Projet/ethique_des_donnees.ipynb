{
 "cells": [
  {
   "attachments": {},
   "cell_type": "markdown",
   "metadata": {},
   "source": [
    "# Étude de l'éthique des données"
   ]
  },
  {
   "attachments": {},
   "cell_type": "markdown",
   "metadata": {},
   "source": [
    "Il s'agit dans un document mettant en évidence l'appropriation de la méthodologie proposée pour avoir une démarche éthique traçant des choix justifiés par rapport aussi aux échanges qu'il y a eu dans l'équipe pendant toutes les phases du projet de la préparation du jeu de données à la proposition de pistes d'amélioration à votre client. En plus de la démarche, voici la mise en évidence les décisions qui ont été prises dans l'équipe ainsi que les points de vigilance ou de contrôle à mettre en place par rapport aux problématiques éthiques rencontrées.\n",
    "\n",
    "Les questions accessibles depuis ce [site](https://digital-strategy.ec.europa.eu/en/library/assessment-list-trustworthy-artificial-intelligence-altai-self-assessment) pourront guider cette démarche. Le fichier PDF téléchargeable donne les principales questions à se poser pour valider qu'un projet d'IA est éthique selon 7 exigences recommandées par la Commission Européenne :\n",
    "* respect de l'autonomie humaine\n",
    "* robustesse technique et sécurité\n",
    "* confidentialité et gouvernance des données\n",
    "* transparence\n",
    "* diversité, non-discrimination et équité\n",
    "* bien-être environnemental et sociétal\n",
    "* responsabilité"
   ]
  },
  {
   "attachments": {},
   "cell_type": "markdown",
   "metadata": {},
   "source": [
    "## Qu'est-ce que l'éthique des données ?"
   ]
  },
  {
   "attachments": {},
   "cell_type": "markdown",
   "metadata": {},
   "source": [
    "* RGPD : Règlement Général sur la Protection des Données\n",
    "* Discrimination : Lorsqu'une personne est traitée différemment en raison de son origine, de son sexe, de son âge, de son handicap, de son orientation sexuelle, de son identité de genre, de son état matrimonial, de sa situation familiale, de sa religion ou de ses croyances, de son appartenance à une ethnie ou à une nation, de son appartenance à une organisation syndicale, de son appartenance à un parti politique ou de ses opinions politiques."
   ]
  },
  {
   "attachments": {},
   "cell_type": "markdown",
   "metadata": {},
   "source": [
    "## Etude de cas"
   ]
  },
  {
   "attachments": {},
   "cell_type": "markdown",
   "metadata": {},
   "source": [
    "1. **Respect de l'autonomie humaine :**\n",
    "    - L'intelligence artificielle doit être utilisisée pour proposer des suggestions et des recommandations, mais ne doit pas être utilisée pour prendre des décisions.\n",
    "2. **Robustesse technique et sécurité :**\n",
    "    - Doit disposer de leviers de sécurité, de contrôle et de surveillance. Comme par exemple, la possibilité de désactiver l'IA en cas de problème.\n",
    "3. **Confidentialité et gouvernance des données :**\n",
    "    - Pas de collecte de données personnelles.\n",
    "    - Localisation des serveurs.\n",
    "    - Les responsables et les utilisateurs doivent être identifiables et responsables.\n",
    "    - Contrôle des données par les utilisateurs.\n",
    "4. **Transparence :**\n",
    "    - Pas de partit-pris.\n",
    "    - Les décisions prises par les systèmes d'IA doivent être compréhensibles et explicables pour les utilisateurs et les parties prenantes.\n",
    "5. **Diversité, non-discrimination et équité :**\n",
    "    - Pas de biais ou de discrimination.\n",
    "    - Respect de la diversité et de l'égalité de traitement.\n",
    "    * *Pas de traitement sur : l'origine, l'éthnie, la nationalité, l'handicap, le sexe, la religion et le statut matriominial ou familial.*\n",
    "6. **Bien-être environnemental et sociétal :**\n",
    "    - Pas de risque de traçabilité pour les utilisateurs.\n",
    "    - Pas de risque de sécurité pour les données.\n",
    "7. **Responsabilité :**\n",
    "    - Conformité aux normes en vigueur."
   ]
  },
  {
   "attachments": {},
   "cell_type": "markdown",
   "metadata": {},
   "source": [
    "### Autonomie humaine"
   ]
  },
  {
   "attachments": {},
   "cell_type": "markdown",
   "metadata": {},
   "source": [
    "test"
   ]
  },
  {
   "attachments": {},
   "cell_type": "markdown",
   "metadata": {},
   "source": [
    "### Robustesse technique et sécurité"
   ]
  },
  {
   "attachments": {},
   "cell_type": "markdown",
   "metadata": {},
   "source": [
    "Les systèmes d'IA doivent être conçus de manière à fonctionner de manière fiable et sûre, en minimisant les risques pour les utilisateurs et l'environnement. Ils doivent être capables de détecter et de résoudre les erreurs, de prévenir les failles de sécurité et de maintenir leur fonctionnement dans des conditions imprévues."
   ]
  },
  {
   "cell_type": "markdown",
   "metadata": {},
   "source": [
    "Les systèmes d'IA doivent être conçus pour renforcer la responsabilité et la sécurité, en minimisant les risques pour les utilisateurs et en facilitant la détection des erreurs ou des actes malveillants. Ils doivent être conformes aux normes de sécurité et de protection des données, et permettre la traçabilité et la responsabilité."
   ]
  },
  {
   "attachments": {},
   "cell_type": "markdown",
   "metadata": {},
   "source": [
    "### Confidentialité et gouvernance des données"
   ]
  },
  {
   "attachments": {},
   "cell_type": "markdown",
   "metadata": {},
   "source": [
    "Les systèmes d'IA doivent être conçus de manière à garantir le respect de la vie privée et des données personnelles des utilisateurs. Les données doivent être collectées et traitées de manière responsable et transparente, et les utilisateurs doivent avoir un certain contrôle sur leurs données."
   ]
  },
  {
   "attachments": {},
   "cell_type": "markdown",
   "metadata": {},
   "source": [
    "Les systèmes d'IA doivent être soumis à des normes et des réglementations appropriées pour garantir leur conformité avec les valeurs, les droits et les réglementations en vigueur. Les responsables de la mise en œuvre et de l'utilisation des systèmes d'IA doivent être identifiables et responsables."
   ]
  },
  {
   "attachments": {},
   "cell_type": "markdown",
   "metadata": {},
   "source": [
    "### Transparence"
   ]
  },
  {
   "attachments": {},
   "cell_type": "markdown",
   "metadata": {},
   "source": [
    "Les décisions prises par les systèmes d'IA doivent être compréhensibles et explicables pour les utilisateurs et les parties prenantes. Les utilisateurs doivent être informés de la façon dont les systèmes d'IA prennent des décisions et comment les données sont collectées et traitées."
   ]
  },
  {
   "attachments": {},
   "cell_type": "markdown",
   "metadata": {},
   "source": [
    "### Diversité, non-discrimination et équité"
   ]
  },
  {
   "attachments": {},
   "cell_type": "markdown",
   "metadata": {},
   "source": [
    "Les systèmes d'IA doivent être conçus pour garantir l'équité et l'inclusion, en évitant les biais ou la discrimination. Ils doivent respecter la diversité et l'égalité de traitement, en particulier en ce qui concerne les groupes vulnérables ou discriminés."
   ]
  },
  {
   "attachments": {},
   "cell_type": "markdown",
   "metadata": {},
   "source": [
    "### Bien-être environnemental et sociétal"
   ]
  },
  {
   "attachments": {},
   "cell_type": "markdown",
   "metadata": {},
   "source": [
    "test"
   ]
  },
  {
   "attachments": {},
   "cell_type": "markdown",
   "metadata": {},
   "source": [
    "### Responsabilité"
   ]
  },
  {
   "attachments": {},
   "cell_type": "markdown",
   "metadata": {},
   "source": [
    "test"
   ]
  },
  {
   "attachments": {},
   "cell_type": "markdown",
   "metadata": {},
   "source": [
    "## Données du service des ressources humaines"
   ]
  },
  {
   "attachments": {},
   "cell_type": "markdown",
   "metadata": {},
   "source": [
    "Pour chaque employé, le service des ressources humaines possède les informations suivantes :"
   ]
  },
  {
   "attachments": {},
   "cell_type": "markdown",
   "metadata": {},
   "source": [
    "### general_data.csv"
   ]
  },
  {
   "attachments": {},
   "cell_type": "markdown",
   "metadata": {},
   "source": [
    "|Label|Description|Type de data|Nullable|Exemple\n",
    "|:--|:--|:--|:--|:--|\n",
    "|Age|L'âge de l'employé en 2015|entier|Non|24, 51, 30, ...|\n",
    "|Attrition|L'objet de notre étude, est-ce que l'employé a quitté l'entreprise durant l'année 2016 ?|booleen|Non| Yes ou No|\n",
    "|BusinessTravel| A quel fréquence l'employé a été amené à se déplacer dans le cadre de son travail en 2015 ?| chaine de caractères |Non|Non-Travel = jamais, Travel_Rarely= rarement, Travel_Frequently = fréquemment|\n",
    "|DistanceFromHome|Distance en km entre le logement de l'employé et l'entreprise|entier|Non|6, 10, ...|\n",
    "|Education|Niveau d'étude|entier|Non|1=Avant College (équivalent niveau Bac), 2=College (équivalent Bac+2), 3=Bachelor (Bac+3), 4=Master (Bac+5) et 5=PhD (Thèse de doctorat)|\n",
    "|EducationField| Domaine d'étude, matière principale|CdC|Non| Life Sciences, Medical, Other, ...|\n",
    "|EmployeeCount|Si l'employé était compté dans les effectifs en 2015|booléen|Non|1 si l'employé était compté dans les effectifs en 2015|\n",
    "|EmployeeId|l'identifiant d'un employé|entier|Non|1, 2, ...|\n",
    "|Gender|Sexe de l'employé|CdC|Non|Female, Male|\n",
    "|JobLevel| Niveau hiérarchique dans l'entreprise|entier|Non|De 1 à 5|\n",
    "|JobRole|Métier dans l'entreprise|CdC|Non|Research Scientist, Sales Executive, ...|\n",
    "|MaritalStatus|Statut marital du salarié|CdC|Non|Célibataire, Marié ou Divorcé|\n",
    "|MonthlyIncome|Salaire brut en roupies par mois|entier|Non|23420, 193280, 103330, ...|\n",
    "|NumCompaniesWorked|Nombre d'entreprises pour lequel le salarié a travaillé avant de rejoindre HumanForYou|entier|Non|0, 1, 2, ...|\n",
    "|Over18|Est-ce que le salarié a plus de 18 ans ou non ?|caractère|Non|Y, N|\n",
    "|PercentSalaryHike|% d'augmentation du salaire en 2015|entier|Non|11, 23, 15, ...|\n",
    "|StandardHours|Nombre d'heures par jour dans le contrat du salarié|entier|Non|8, ...|\n",
    "|StockOptionLevel|Niveau d'investissement en actions de l'entreprise par le salarié|entier|Non|0, 1, 2, ...|\n",
    "|TotalWorkingYears|Nombre d'années d'expérience en entreprise du salarié pour le même type de poste|entier|Non|0, 1, 2, ...|\n",
    "|TrainingTimesLastYear|Nombre de jours de formation en 2015|entier|Non|0, 1, 2, ...|\n",
    "|YearsAtCompany|Ancienneté dans l'entreprise|entier|Non|0, 1, 2, ...|\n",
    "|YearsSinceLastPromotion|Nombre d'années depuis la dernière augmentation individuelle|entier|Non|0, 1, 2, ...|\n",
    "|YearsWithCurrManager|Nombre d'années de collaboration sous la responsabilité du manager actuel de l'employé|entier|Non|0, 1, 2, ...|"
   ]
  },
  {
   "attachments": {},
   "cell_type": "markdown",
   "metadata": {},
   "source": [
    "### Évaluation de la pertinence des données et leur éthique"
   ]
  },
  {
   "attachments": {},
   "cell_type": "markdown",
   "metadata": {},
   "source": [
    "|Pas utile|Pas éthique|\n",
    "|:-|:-|\n",
    "|\"Over18\"|Supprimer les personne de moins de 18 ans (cf. RGPD)|\n",
    "|\"EducationField\"|\"Gender\" => peu porter à la discrimination|\n",
    "|\"EmployeeCount\" = 0|\"MaritalStatus\" => peu porter à la discrimination|\n",
    "|~\"StockOptionLevel\"||"
   ]
  },
  {
   "attachments": {},
   "cell_type": "markdown",
   "metadata": {},
   "source": [
    "## Dernière évaluation du manager"
   ]
  },
  {
   "attachments": {},
   "cell_type": "markdown",
   "metadata": {},
   "source": [
    "Ce fichier contient la dernière évaluation de chaque employé faite pas son manager en février 2015."
   ]
  },
  {
   "attachments": {},
   "cell_type": "markdown",
   "metadata": {},
   "source": [
    "### manager_survey_data.csv"
   ]
  },
  {
   "attachments": {},
   "cell_type": "markdown",
   "metadata": {},
   "source": [
    "|Label|Description|Type de data|Nullable|Exemple\n",
    "|:--|:--|:--|:--|:--|\n",
    "|EmployeeID|l'identifiant d'un employé|entier|Non|1, 2, ...|\n",
    "|JobInvolvement|Une évaluation de son implication dans son travail|entier|Non| 1 ('Faible'), 2 (\"Moyenne\"), 3 (\"Importante\") ou 4 (\"Très importante\")|\n",
    "|PerformanceRating|Une évaluation de son niveau de performance annuel pour l'entreprise|entier|Non| 1 ('Faible'), 2 (\"Bon\"), 3 (\"Excellent\") ou 4 (\"Au delà des attentes\")|"
   ]
  },
  {
   "attachments": {},
   "cell_type": "markdown",
   "metadata": {},
   "source": [
    "### Évaluation de la pertinence des données et leur éthique"
   ]
  },
  {
   "attachments": {},
   "cell_type": "markdown",
   "metadata": {},
   "source": [
    "Les données de ce fichier sont pertinentes et éthiques."
   ]
  },
  {
   "attachments": {},
   "cell_type": "markdown",
   "metadata": {},
   "source": [
    "## Enquête qualité de vie au travail"
   ]
  },
  {
   "attachments": {},
   "cell_type": "markdown",
   "metadata": {},
   "source": [
    "Ce fichier provient d'une enquête soumise aux employés en juin 2015 par le service RH pour avoir un retour concernant leur qualité de vie au travail.\n",
    "\n",
    "Une organisation avait été mise en place pour que chacun puisse répondre à ce questionnaire sur son lieu de travail en concertation avec les managers mais il n'y avait pas d'obligation."
   ]
  },
  {
   "attachments": {},
   "cell_type": "markdown",
   "metadata": {},
   "source": [
    "### employee_survey_data.csv"
   ]
  },
  {
   "attachments": {},
   "cell_type": "markdown",
   "metadata": {},
   "source": [
    "|Label|Description|Type de data|Nullable|Exemple\n",
    "|:--|:--|:--|:--|:--|\n",
    "|EmployeeID|l'identifiant d'un employé|entier|Non|1, 2, ...|\n",
    "|EnvironmentSatisfaction|Satisfaction de l'environnement de travail|entier|Oui| 1 ('Faible'), 2 (\"Moyenne\"), 3 (\"Élevé\") ou 4 (\"Très élevé\")|\n",
    "|JobSatisfaction|Son travail|entier|Oui| De 1 à 4|\n",
    "|WorkLifeBalance|Son équilibre entre vie professionnelle et vie privée|entier|Oui| 1 (\"Mauvais\"), 2 (\"Satisfaisant\"), 3 (\"Très satisfaisant\") ou 4 (\"Excellent\")|"
   ]
  },
  {
   "attachments": {},
   "cell_type": "markdown",
   "metadata": {},
   "source": [
    "### Évaluation de la pertinence des données et leur éthique"
   ]
  },
  {
   "attachments": {},
   "cell_type": "markdown",
   "metadata": {},
   "source": [
    "Les données de ce fichier sont pertinentes et éthiques."
   ]
  },
  {
   "attachments": {},
   "cell_type": "markdown",
   "metadata": {},
   "source": [
    "## Horaires de travail"
   ]
  },
  {
   "attachments": {},
   "cell_type": "markdown",
   "metadata": {},
   "source": [
    "Des badgeuses sont installées et utilisées dans l'entreprise depuis quelques années. Il a été jugé opportun par la direction de vous transmettre les horaires d'entrée et de sortie des employés sur une période de l'année choisie représentative d'une activité moyenne pour l'ensemble des services.\n",
    "\n",
    "Il y a donc 2 fichiers traçants les horaires d'arrivée à leur poste et de départ de leur poste de l'ensemble des employés par date sur une période allant du 1er janvier au 31 décembre 2015."
   ]
  },
  {
   "attachments": {},
   "cell_type": "markdown",
   "metadata": {},
   "source": [
    "### in_out_time.zip"
   ]
  },
  {
   "attachments": {},
   "cell_type": "markdown",
   "metadata": {},
   "source": [
    "#### in_time.csv"
   ]
  },
  {
   "attachments": {},
   "cell_type": "markdown",
   "metadata": {},
   "source": [
    "|Label|Description|Type de data|Nullable|Exemple|\n",
    "|:--|:--|:--|:--|:--|\n",
    "|EmployeeID|l'identifiant d'un employé|entier|Non|1, 2, ...|\n",
    "|2015-01-01 <br/>2015-01-02 <br/> ...|Date et heure de l'entrée|date heure|Oui|2015-01-02 09:43:45, 2015-01-02 09:44:45, ...|"
   ]
  },
  {
   "attachments": {},
   "cell_type": "markdown",
   "metadata": {},
   "source": [
    "#### out_time.csv"
   ]
  },
  {
   "attachments": {},
   "cell_type": "markdown",
   "metadata": {},
   "source": [
    "|Label|Description|Type de data|Nullable|Exemple|\n",
    "|:--|:--|:--|:--|:--|\n",
    "|EmployeeID|l'identifiant d'un employé|entier|Non|1, 2, ...|\n",
    "|2015-01-01 <br/>2015-01-02 <br/> ...|Date et heure de la sortie|date heure|Oui|2015-01-02 09:43:45, 2015-01-02 09:44:45, ...|"
   ]
  },
  {
   "attachments": {},
   "cell_type": "markdown",
   "metadata": {},
   "source": [
    "### Évaluation de la pertinence des données et leur éthique"
   ]
  },
  {
   "attachments": {},
   "cell_type": "markdown",
   "metadata": {},
   "source": [
    "Les données de ce fichier sont pertinentes et éthiques."
   ]
  }
 ],
 "metadata": {
  "language_info": {
   "name": "python"
  },
  "orig_nbformat": 4
 },
 "nbformat": 4,
 "nbformat_minor": 2
}
