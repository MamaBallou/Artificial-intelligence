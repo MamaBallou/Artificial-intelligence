{
 "cells": [
  {
   "cell_type": "markdown",
   "id": "d7417312",
   "metadata": {},
   "source": [
    "# Métodologies de réflexion éthique\n",
    "## Sujet : ChatGPT - Écrire son PFE\n",
    "### Situation initiale\n",
    "* Quel but ?\n",
    "    * Rédiger un PFE et gagner du temps\n",
    "* Quel contexte ?\n",
    "     * Rédaction de PFE (fin de stage)\n",
    "* Quel problème ?\n",
    "     * Comment gagner du temps sur la rédation de l'introduction du PFE ?\n",
    "\n",
    "### Solutions\n",
    "* ChatGPT\n",
    "* Tierse personne\n",
    "* Abandonner\n",
    "* Bosser soi-même\n",
    "\n",
    "### Parties prenantes\n",
    "__Qui est concerné ?__\n",
    "* L'étudiant qui rédige le PFE\n",
    "* Relecteur\n",
    "* Jury\n",
    "* Lecteur\n",
    "\n",
    "### Impacts\n",
    "* Quels avantages ?\n",
    "    * Peu d'erreur de rédaction\n",
    "    * Sait déveloper sur un sujet\n",
    "    * Rapide\n",
    "    * Plutôt fiable\n",
    "    * Sait corriger ses erreurs par rapport à des consignes (adaptatif)\n",
    "    * Toujours disponible\n",
    "* Quels inconvénients ?\n",
    "    * Par le fruit de son propre travail (moins de mérite)\n",
    "    * Les données transmisent\n",
    "    * L'exactitude peut être compromise\n",
    "    * Manipulable\n",
    "\n",
    "### Filtre éthique\n",
    "Si un groupe de personne utilisait ChatGPT alors :\n",
    "* Ils n'apprendraient pas\n",
    "* Il n'y aurait pas de débat ni d'échange\n",
    "* Pas de recul si pour la finalité\n",
    "\n",
    "### Conclusion\n",
    "L'utiliser pour un outils d'ébauche et pas pour un rendu final"
   ]
  }
 ],
 "metadata": {
  "kernelspec": {
   "display_name": "Python 3 (ipykernel)",
   "language": "python",
   "name": "python3"
  },
  "language_info": {
   "codemirror_mode": {
    "name": "ipython",
    "version": 3
   },
   "file_extension": ".py",
   "mimetype": "text/x-python",
   "name": "python",
   "nbconvert_exporter": "python",
   "pygments_lexer": "ipython3",
   "version": "3.10.0"
  }
 },
 "nbformat": 4,
 "nbformat_minor": 5
}
