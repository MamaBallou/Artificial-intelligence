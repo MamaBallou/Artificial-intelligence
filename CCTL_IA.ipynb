{
 "cells": [
  {
   "attachments": {},
   "cell_type": "markdown",
   "metadata": {},
   "source": [
    "# Histoire de l'IA\n"
   ]
  },
  {
   "attachments": {},
   "cell_type": "markdown",
   "metadata": {},
   "source": [
    "- 1943-1956 : Les prémices de l'IA : Pendant cette période, des chercheurs tels que Warren McCulloch et Walter Pitts ont créé les premiers modèles de réseaux de neurones artificiels. En 1956, John McCarthy, Marvin Minsky, Claude Shannon et Nathaniel Rochester ont organisé la conférence de Dartmouth, qui est considérée comme le début de l'IA en tant que domaine de recherche distinct.\n",
    "- 1956-1974 : L'âge d'or de l'IA : Pendant cette période, les chercheurs ont développé des algorithmes de recherche et de planification, ainsi que des programmes de traduction automatique. Des systèmes comme le théorème de géométrie de Prover ont été développés et ont été considérés comme des percées importantes.\n",
    "- 1980-2010 : L'IA symbolique et les réseaux de neurones : Pendant cette période, l'IA symbolique a été largement utilisée pour la résolution de problèmes et l'expertise en domaine. Les réseaux de neurones ont également connu un regain d'intérêt, avec des avancées telles que le réseau de neurones convolutionnels et le réseau de neurones récurrents.\n",
    "- Depuis 2010 : L'IA profonde : Au cours de la dernière décennie, l'IA profonde a connu un énorme succès grâce à l'utilisation de réseaux de neurones profonds, de l'apprentissage par renforcement et de la capacité croissante de calcul. Des systèmes tels que AlphaGo de Google DeepMind ont montré la capacité de l'IA à surpasser les humains dans des tâches complexes.\n"
   ]
  },
  {
   "attachments": {},
   "cell_type": "markdown",
   "metadata": {},
   "source": [
    "Voici quelques exemples d'IA marquante de ces époques :\n",
    "\n",
    "- 1951 : UNIVAC, le premier ordinateur commercial, a été lancé.\n",
    "- 1952 : Arthur Samuel développe un programme de dames qui peut apprendre de ses propres erreurs.\n",
    "- 1956 : Le langage de programmation LISP est développé pour la recherche en IA.\n",
    "- 1967 : Le système DENDRAL est développé pour la reconnaissance de structures moléculaires.\n",
    "- 1972 : Le système MYCIN est développé pour le diagnostic de maladies infectieuses.\n",
    "- 1985 : Le système XCON est développé pour la configuration de produits personnalisés.\n",
    "- 1997 : Deep Blue de IBM bat le champion du monde d'échecs Garry Kasparov.\n",
    "- 2011 : Watson de IBM bat les meilleurs joueurs humains au jeu télévisé Jeopardy!\n",
    "- 2016 : Alpha GO de Google DeepMind bat le champion du monde de Go Lee Sedol.\n",
    "- 2017 : AlphaGo Zero de Google DeepMind bat la version précédente d'AlphaGo sans utiliser de données d'entraînement humaines, mais en utilisant uniquement l'apprentissage par renforcement.\n",
    "- 2018 : GPT-2 de OpenAI est un modèle de langage naturel qui peut générer du texte humain-like de qualité élevée, ce qui soulève des préoccupations quant à l'utilisation abusive de cette technologie pour la désinformation ou les attaques de phishing.\n",
    "- 2019 : OpenAI développe un système d'IA de traitement du langage naturel nommé GPT-3, qui est capable d'effectuer une variété de tâches telles que la traduction, la génération de texte, la réponse à des questions et la création de code informatique.\n",
    "- 2020 : AlphaFold de DeepMind utilise l'IA pour prédire avec précision la structure tridimensionnelle des protéines, une percée qui pourrait avoir un impact considérable sur la recherche en médecine et la conception de médicaments.\n",
    "- 2021 : DALL-E de OpenAI est un modèle de génération d'images qui peut créer des images à partir de descriptions textuelles. Cette technologie a le potentiel de révolutionner la conception graphique et la production d'images pour les applications de réalité virtuelle et augmentée.\n"
   ]
  },
  {
   "attachments": {},
   "cell_type": "markdown",
   "metadata": {},
   "source": [
    "<p align=\"center\">\n",
    "  <img src=\"./frise_chronologique.png\" alt=\"frise chronologique\" style=\"max-width:100%;\">\n",
    "</p>\n"
   ]
  },
  {
   "attachments": {},
   "cell_type": "markdown",
   "metadata": {},
   "source": [
    "# Domaines d'application de l'I.A\n"
   ]
  },
  {
   "attachments": {},
   "cell_type": "markdown",
   "metadata": {},
   "source": [
    "L'IA (intelligence artificielle) est un champ très vaste et en constante évolution, qui peut être appliqué à de nombreux domaines différents. Voici quelques exemples de domaines d'application de l'IA :\n",
    "\n",
    "1. Les technologies de la communication : l'IA est utilisée pour améliorer les performances des réseaux de communication, pour améliorer la qualité de service, pour la détection et la correction d'erreurs, et pour la sécurité des réseaux.\n",
    "1. La santé : l'IA est utilisée pour aider à la détection et au traitement de maladies, pour la gestion des dossiers médicaux, pour la recherche de nouveaux traitements, et pour la prévention des maladies.\n",
    "1. L'industrie : l'IA est utilisée pour optimiser les processus de production, pour la maintenance prédictive, pour la gestion des stocks, pour la qualité des produits, et pour la réduction des coûts de production.\n",
    "1. Les transports : l'IA est utilisée pour la gestion du trafic, pour la navigation des véhicules, pour la détection d'accidents, pour la sécurité des passagers, et pour la réduction des émissions de gaz à effet de serre.\n",
    "1. La finance : l'IA est utilisée pour l'analyse des données financières, pour la détection de fraudes, pour la gestion des risques, pour la prévision des tendances du marché, et pour la prise de décisions d'investissement.\n",
    "1. L'éducation : l'IA est utilisée pour la personnalisation de l'apprentissage, pour l'analyse des données d'apprentissage, pour l'identification des problèmes d'apprentissage, et pour la création de nouveaux outils d'apprentissage.\n",
    "1. La sécurité : l'IA est utilisée pour la détection de menaces, pour la prévention des attaques, pour la surveillance des activités suspectes, et pour la protection des données.\n",
    "\n",
    "Il existe de nombreux autres domaines d'application de l'IA, et cette technologie est en constante évolution, ce qui signifie que de nouveaux domaines d'application continueront d'émerger à l'avenir.\n"
   ]
  },
  {
   "attachments": {},
   "cell_type": "markdown",
   "metadata": {},
   "source": [
    "# Acteurs de l'I.A. et les solutions proposées\n"
   ]
  },
  {
   "attachments": {},
   "cell_type": "markdown",
   "metadata": {},
   "source": [
    "## Acteurs\n"
   ]
  },
  {
   "attachments": {},
   "cell_type": "markdown",
   "metadata": {},
   "source": [
    "Il existe de nombreux acteurs dans le domaine de l'IA, allant des grandes entreprises technologiques aux startups en passant par les universités et les laboratoires de recherche. Voici quelques exemples d'acteurs de l'IA :\n",
    "\n",
    "1. Les **grandes entreprises technologiques** : Les entreprises telles que Google, Microsoft, IBM, Amazon et Facebook ont des équipes de recherche importantes dédiées à l'IA, et proposent des solutions d'IA pour les entreprises et le grand public.\n",
    "1. Les **startups** : Il existe un grand nombre de startups travaillant sur des solutions d'IA, que ce soit pour des applications spécifiques ou pour des plates-formes générales. Certaines startups notables dans le domaine de l'IA incluent UiPath, OpenAI, Cognitivescale, DataRobot et Hugging Face.\n",
    "1. Les **universités** et les **laboratoires de recherche** : Les universités et les laboratoires de recherche sont des acteurs clés dans le développement de nouvelles technologies d'IA, ainsi que dans la formation des futurs professionnels de l'IA.\n"
   ]
  },
  {
   "attachments": {},
   "cell_type": "markdown",
   "metadata": {},
   "source": [
    "## Solutions\n"
   ]
  },
  {
   "attachments": {},
   "cell_type": "markdown",
   "metadata": {},
   "source": [
    "En termes de solutions proposées, il existe de nombreuses applications d'IA pour différents secteurs. Voici quelques exemples de solutions d'IA :\n",
    "\n",
    "1. La **reconnaissance vocale** et la **compréhension du langage naturel** : Ces technologies sont utilisées pour créer des assistants virtuels, des chatbots et des systèmes de reconnaissance vocale pour les appareils mobiles.\n",
    "1. La **vision par ordinateur** : Les solutions de vision par ordinateur sont utilisées pour la reconnaissance faciale, la reconnaissance d'objets, la surveillance vidéo et la sécurité.\n",
    "1. L'**apprentissage automatique** : L'apprentissage automatique est utilisé pour la détection de fraudes, la prédiction des tendances du marché, la personnalisation des expériences utilisateur et la reconnaissance de la parole.\n",
    "1. Les **réseaux de neurones** : Les réseaux de neurones sont utilisés pour des applications telles que la reconnaissance d'images, la prédiction de séries temporelles et la traduction automatique.\n",
    "1. Les **systèmes de recommandation** : Les systèmes de recommandation sont utilisés pour personnaliser les offres et les recommandations en ligne pour les utilisateurs, ainsi que pour la recommandation de produits et de services.\n"
   ]
  },
  {
   "attachments": {},
   "cell_type": "markdown",
   "metadata": {},
   "source": [
    "# Problématiques éthiques liées à l'I.A. dans un contexte donné\n"
   ]
  },
  {
   "attachments": {},
   "cell_type": "markdown",
   "metadata": {},
   "source": [
    "Cf [Context de ChatGPT pour la rédaction du PFE](.01-ChatGTP-Rédaction_de_PFE.ipynb)\n"
   ]
  },
  {
   "attachments": {},
   "cell_type": "markdown",
   "metadata": {},
   "source": [
    "# Manipuler un jeu de données dans un environnement de développement\n"
   ]
  },
  {
   "attachments": {},
   "cell_type": "markdown",
   "metadata": {},
   "source": [
    "Depuis un csv ou une base de données, on peut utiliser des librairies comme pandas pour manipuler les données.\n"
   ]
  },
  {
   "attachments": {},
   "cell_type": "markdown",
   "metadata": {},
   "source": [
    "# Préparer un jeu de données\n"
   ]
  },
  {
   "attachments": {},
   "cell_type": "markdown",
   "metadata": {},
   "source": [
    "Voici quelques étapes à suivre pour pré-traiter les données pour une utilisation avec K-means :\n",
    "\n",
    "1. Intégration des données : Intégrez les données des différentes sources en une seule source de données. Si vous travaillez avec des données provenant de plusieurs sources, vous devez les intégrer en une seule source de données. Cela vous permettra de traiter les données comme une seule entité et de les analyser plus facilement.\n",
    "\n",
    "2. Nettoyer les données : Assurez-vous que vos données sont propres et ne contiennent pas de valeurs manquantes, de doublons ou d'autres anomalies. Si nécessaire, supprimez ou remplacez les données manquantes.\n",
    "\n",
    "3. Normaliser les données : Normalisez les données en les mettant à l'échelle de sorte que chaque variable ait une plage de valeurs comparable. La normalisation peut être effectuée en utilisant la méthode de la moyenne et de l'écart type, la méthode de la plage ou la méthode de la normalisation de l'amplitude.\n",
    "\n",
    "4. Réduire la dimensionnalité : Si vous travaillez avec des données à haute dimensionnalité, utilisez des techniques de réduction de dimensionnalité telles que l'analyse en composantes principales (PCA) pour réduire la dimensionnalité de vos données et faciliter leur analyse.\n",
    "\n",
    "5. Identifier les valeurs aberrantes : Les valeurs aberrantes peuvent fausser les résultats de K-means, il est donc important de les identifier et de les traiter correctement. Les valeurs aberrantes peuvent être supprimées ou remplacées par des valeurs plus appropriées.\n",
    "\n",
    "6. Sélectionner les caractéristiques : Si vous travaillez avec des données qui contiennent de nombreuses caractéristiques, il peut être judicieux de sélectionner les caractéristiques les plus pertinentes pour votre analyse.\n",
    "\n",
    "En résumé, le pré-traitement des données pour K-means comprend le nettoyage des données, la normalisation des données, la réduction de la dimensionnalité, l'identification et le traitement des valeurs aberrantes et la sélection des caractéristiques. En effectuant ces étapes, vous pouvez améliorer la qualité de vos données et obtenir des résultats plus significatifs à l'aide de K-means.\n"
   ]
  },
  {
   "attachments": {},
   "cell_type": "markdown",
   "metadata": {},
   "source": [
    "# Produire un jeu de données exploitable pour le Machine Learning\n"
   ]
  },
  {
   "attachments": {},
   "cell_type": "markdown",
   "metadata": {},
   "source": [
    "```py\n",
    "# Create the pipeline for numerical attributes\n",
    "num_pipeline = Pipeline([\n",
    "    ('imputer', SimpleImputer(strategy=\"median\")),\n",
    "    ('attribs_adder', CombinedAttributesAdder(columns_to_merge)),\n",
    "    ('std_scaler', StandardScaler()),\n",
    "]).set_output(transform=\"pandas\")\n",
    "\n",
    "# Full pipeline\n",
    "full_pipeline = ColumnTransformer(transformers=[\n",
    "    (\"num\", num_pipeline, lambda x: x.select_dtypes(include=[np.number]).columns),\n",
    "    (\"cat\", OneHotEncoder(sparse_output=False), lambda x: x.select_dtypes(exclude=[np.number]).columns),\n",
    "], remainder='passthrough').set_output(transform=\"pandas\")\n",
    "```"
   ]
  }
 ],
 "metadata": {
  "language_info": {
   "name": "python"
  },
  "orig_nbformat": 4
 },
 "nbformat": 4,
 "nbformat_minor": 2
}
